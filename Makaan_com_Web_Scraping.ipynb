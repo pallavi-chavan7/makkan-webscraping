{
  "nbformat": 4,
  "nbformat_minor": 0,
  "metadata": {
    "colab": {
      "name": "Makaan.com_Web_Scraping.ipynb",
      "provenance": [],
      "authorship_tag": "ABX9TyOefuZEwU8AZlIzODShwrZx",
      "include_colab_link": true
    },
    "kernelspec": {
      "name": "python3",
      "display_name": "Python 3"
    },
    "language_info": {
      "name": "python"
    }
  },
  "cells": [
    {
      "cell_type": "markdown",
      "metadata": {
        "id": "view-in-github",
        "colab_type": "text"
      },
      "source": [
        "<a href=\"https://colab.research.google.com/github/pallavi-chavan7/makkan-webscraping/blob/main/Makaan_com_Web_Scraping.ipynb\" target=\"_parent\"><img src=\"https://colab.research.google.com/assets/colab-badge.svg\" alt=\"Open In Colab\"/></a>"
      ]
    },
    {
      "cell_type": "code",
      "metadata": {
        "id": "n41IzLU2pVw7"
      },
      "source": [
        "#import all the packages\n",
        "\n",
        "import requests\n",
        "from bs4 import BeautifulSoup\n",
        "import pandas as pd"
      ],
      "execution_count": null,
      "outputs": []
    },
    {
      "cell_type": "code",
      "metadata": {
        "id": "r1ea-ff9pV04"
      },
      "source": [
        "url = 'https://www.makaan.com/hyderabad-residential-property/buy-property-in-hyderabad-city'\n",
        "req = requests.get(url)\n",
        "print(req)\n",
        "soup = BeautifulSoup(req.text,'html')\n",
        "print(soup.prettify())"
      ],
      "execution_count": null,
      "outputs": []
    },
    {
      "cell_type": "code",
      "metadata": {
        "colab": {
          "base_uri": "https://localhost:8080/"
        },
        "id": "st0aBEzPpV4z",
        "outputId": "a1bd09ff-0308-4fa1-ace9-387d24ca2e08"
      },
      "source": [
        "#find will give us the first span tag\n",
        "soup.find('span')"
      ],
      "execution_count": null,
      "outputs": [
        {
          "output_type": "execute_result",
          "data": {
            "text/plain": [
              "<span data-target=\"categoryPlaceholder\">buy</span>"
            ]
          },
          "metadata": {
            "tags": []
          },
          "execution_count": 4
        }
      ]
    },
    {
      "cell_type": "code",
      "metadata": {
        "id": "vcbXzJpEpV9-"
      },
      "source": [
        "soup.findAll('span')"
      ],
      "execution_count": null,
      "outputs": []
    },
    {
      "cell_type": "code",
      "metadata": {
        "id": "4H4xya59pWAK"
      },
      "source": [
        "#owner information\n",
        "soup.find('span',attrs={'class':'seller-type'}).text "
      ],
      "execution_count": null,
      "outputs": []
    },
    {
      "cell_type": "code",
      "metadata": {
        "id": "l6XK9NtQpWDu"
      },
      "source": [
        "own_info = soup.findAll('span',attrs={'class':'seller-type'})\n",
        "own_info = [i.text for i in own_info]\n",
        "own_info"
      ],
      "execution_count": null,
      "outputs": []
    },
    {
      "cell_type": "code",
      "metadata": {
        "id": "WXlvZJfxpWHq"
      },
      "source": [
        "#price per sqft\n",
        "soup.find('div',attrs={'data-type':'price-link'}).text\n",
        "\n",
        "p_info = soup.findAll('div',attrs={'data-type':'price-link'})\n",
        "p_info = [i.text.strip() for i in p_info]\n",
        "p_info"
      ],
      "execution_count": null,
      "outputs": []
    },
    {
      "cell_type": "code",
      "metadata": {
        "id": "2eAcB913pWLH"
      },
      "source": [
        "#Locality\n",
        "soup.find('span',attrs={'itemprop':'addressLocality'}).text  \n",
        "\n",
        "loc_info = soup.findAll('span',attrs={'itemprop':'addressLocality'})\n",
        "loc_info =[i.text for i in loc_info]\n",
        "loc_info"
      ],
      "execution_count": null,
      "outputs": []
    },
    {
      "cell_type": "code",
      "metadata": {
        "id": "tFjlrLOUpWSc"
      },
      "source": [
        "#Area of apartment\n",
        "soup.find('td',attrs={'class' : 'size'}).text   \n",
        "a_info = soup.findAll('td',attrs={'class' : 'size'})\n",
        "a_info = [i.text.strip() for i in a_info]\n",
        "a_info"
      ],
      "execution_count": null,
      "outputs": []
    },
    {
      "cell_type": "code",
      "metadata": {
        "id": "0Uc6vGqypWZU"
      },
      "source": [
        "#Construction status\n",
        "soup.findAll('td',attrs={'class':'val'})\n",
        "\n",
        "con_st = soup.findAll('td',attrs={'class':'val'})\n",
        "con_st = [i.text for i in con_st]\n",
        "con_st"
      ],
      "execution_count": null,
      "outputs": []
    },
    {
      "cell_type": "code",
      "metadata": {
        "id": "Pj6X7DxapWcL"
      },
      "source": [
        "#BHK\n",
        "soup.find('div',attrs={'title-line'})\n",
        "\n",
        "bhk_info = soup.findAll('div',attrs={'title-line'})\n",
        "bhk_info = [i.strong.span.text.strip() for i in bhk_info]\n",
        "bhk_info"
      ],
      "execution_count": null,
      "outputs": []
    },
    {
      "cell_type": "code",
      "metadata": {
        "id": "N0xwSQbQpWfV"
      },
      "source": [
        "#price per sqft\n",
        "soup.find('td',attrs={'class':'lbl rate'}).text  \n",
        "\n",
        "P_P_sqft = soup.findAll('td',attrs={'class':'lbl rate'})\n",
        "P_P_sqft = [i.text for i in P_P_sqft]\n",
        "print(P_P_sqft)\n",
        "print(len(P_P_sqft))\n"
      ],
      "execution_count": null,
      "outputs": []
    },
    {
      "cell_type": "code",
      "metadata": {
        "id": "YjrrC3jzpWiE"
      },
      "source": [
        "\n",
        "\n",
        "#converting to dataframe\n",
        "data = pd.DataFrame({'Owner_info' : own_info,\n",
        "              'Bhk_info' : bhk_info,\n",
        "              'Price' : p_info,\n",
        "              'Locality' : loc_info,\n",
        "              'Area_sqft' : a_info,\n",
        "              'Status' : con_st,\n",
        "              'Price_Per_sqft' : P_P_sqft})\n",
        "data"
      ],
      "execution_count": null,
      "outputs": []
    },
    {
      "cell_type": "code",
      "metadata": {
        "id": "ZfXrfcnMpWla"
      },
      "source": [
        "data.to_csv('aprtment_data.csv',index=False)"
      ],
      "execution_count": null,
      "outputs": []
    },
    {
      "cell_type": "code",
      "metadata": {
        "id": "KxB4pzR5pWoA"
      },
      "source": [
        "import time\n",
        "import requests\n",
        "from IPython.display import clear_output\n",
        "\n",
        "base_url = 'https://www.makaan.com/hyderabad-residential-property/buy-property-in-hyderabad-city?page='\n",
        "\n",
        "owner_info = []\n",
        "no_bhk = []\n",
        "\n",
        "for i in range(1,5):\n",
        "  print(base_url+str(i)+'&_=1624455000063')\n",
        "req = requests.get(url)\n",
        "soup = BeautifulSoup(req.text,'html')\n",
        "\n",
        "#owner information\n",
        "o_info = soup.find('span',attrs={'class':'seller-type'}).text\n",
        "for j in o_info:\n",
        " owner_info.append(j.text)\n",
        " \n",
        "#bhk\n",
        "bhk_info = soup.findAll('div',attrs={'title-line'})\n",
        "for k in bhk_info:\n",
        "  no_bhk.append(k.strong.span.text)  \n",
        "\n"
      ],
      "execution_count": null,
      "outputs": []
    },
    {
      "cell_type": "code",
      "metadata": {
        "id": "gRkcYlt9qPlw"
      },
      "source": [
        ""
      ],
      "execution_count": null,
      "outputs": []
    },
    {
      "cell_type": "code",
      "metadata": {
        "id": "5HnADs47qPyR"
      },
      "source": [
        ""
      ],
      "execution_count": null,
      "outputs": []
    }
  ]
}